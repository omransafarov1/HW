{
  "nbformat": 4,
  "nbformat_minor": 0,
  "metadata": {
    "colab": {
      "name": "Homework1.ipynb",
      "provenance": [],
      "collapsed_sections": []
    },
    "kernelspec": {
      "name": "python3",
      "display_name": "Python 3"
    },
    "language_info": {
      "name": "python"
    }
  },
  "cells": [
    {
      "cell_type": "code",
      "execution_count": 7,
      "metadata": {
        "colab": {
          "base_uri": "https://localhost:8080/"
        },
        "id": "jrVeHsm1rpdT",
        "outputId": "7f65433e-64f6-4287-fb26-dc049ec77928"
      },
      "outputs": [
        {
          "output_type": "stream",
          "name": "stdout",
          "text": [
            "What is your name? Omran\n",
            "What is your age? 20\n",
            "Your name is Omran. Your age is 20\n"
          ]
        }
      ],
      "source": [
        "#Q1-Get your name and age as input and print it in the form like\n",
        "#Your name is Hulisi. Your age is 43\n",
        "name=input('What is your name? ')\n",
        "age=input('What is your age? ')\n",
        "print(\"Your name is {}. Your age is {}\".format(name, age))"
      ]
    },
    {
      "cell_type": "code",
      "source": [
        "#Q2-Write a if statement for a given two number is equal or not\n",
        "a=43\n",
        "b=54\n",
        "\n",
        "if a == b:\n",
        "  print('Equal')\n",
        "else:\n",
        "  print('Not equal')"
      ],
      "metadata": {
        "id": "7Sfg03_PuVWa",
        "outputId": "e1b81830-40bb-4b4f-b274-54978ba917cc",
        "colab": {
          "base_uri": "https://localhost:8080/"
        }
      },
      "execution_count": 8,
      "outputs": [
        {
          "output_type": "stream",
          "name": "stdout",
          "text": [
            "Not equal\n"
          ]
        }
      ]
    },
    {
      "cell_type": "code",
      "source": [
        "#Q3-Write a if statement for first number is greater (a), equal or less than second number.(b)\n",
        "a=43\n",
        "b=54\n",
        "\n",
        "if a > b :\n",
        "  print('Greater')\n",
        "elif a == b:\n",
        "  print('Equal')\n",
        "else:\n",
        "  print('Less')\n"
      ],
      "metadata": {
        "id": "NtUibZ07u5gs",
        "outputId": "6d7f5734-13aa-462d-e03e-42063682184e",
        "colab": {
          "base_uri": "https://localhost:8080/"
        }
      },
      "execution_count": 9,
      "outputs": [
        {
          "output_type": "stream",
          "name": "stdout",
          "text": [
            "Less\n"
          ]
        }
      ]
    },
    {
      "cell_type": "code",
      "source": [
        "#Q4- Using for loop, print 1,2,3,4,5\n",
        "n = 5\n",
        "for k in range(1, n+1, 1):\n",
        "  if k == n:\n",
        "    print(k, end = '')\n",
        "    break;\n",
        "  print(k, end = ',')"
      ],
      "metadata": {
        "id": "U1UMQv36wNHP",
        "outputId": "9d5209ce-0d44-40fa-8654-ab7f7c4ba199",
        "colab": {
          "base_uri": "https://localhost:8080/"
        }
      },
      "execution_count": 16,
      "outputs": [
        {
          "output_type": "stream",
          "name": "stdout",
          "text": [
            "1,2,3,4,5"
          ]
        }
      ]
    },
    {
      "cell_type": "code",
      "source": [
        "#Q5-Using while loop, print 5,4,3,2,1\n",
        "\n",
        "n = 5\n",
        "while n > 0:\n",
        "  if n == 1:\n",
        "    print(n, end = '')\n",
        "    break;\n",
        "  print(n, end = ',')\n",
        "  n-=1\n"
      ],
      "metadata": {
        "id": "bh5Lga7XxGY8",
        "outputId": "5d4efa48-afd2-46e4-bcd6-81db68afa699",
        "colab": {
          "base_uri": "https://localhost:8080/"
        }
      },
      "execution_count": 20,
      "outputs": [
        {
          "output_type": "stream",
          "name": "stdout",
          "text": [
            "5,4,3,2,1"
          ]
        }
      ]
    },
    {
      "cell_type": "code",
      "source": [
        "#Q6- Using for loop, print 10,6,4,2,0\n",
        "#Hint Print if number is not equal to 8.\n",
        "\n",
        "for i in range(10, 0-1, -2):\n",
        "  if i != 8:\n",
        "    print(i , end = ' ')"
      ],
      "metadata": {
        "id": "cXTTDS49xSoi",
        "outputId": "cfb1a2fd-5145-4a6a-f570-9cd389d35b89",
        "colab": {
          "base_uri": "https://localhost:8080/"
        }
      },
      "execution_count": 22,
      "outputs": [
        {
          "output_type": "stream",
          "name": "stdout",
          "text": [
            "10 6 4 2 0 "
          ]
        }
      ]
    },
    {
      "cell_type": "code",
      "source": [
        "#Q7-Write a method to calculate age for a given date of birth year.\n",
        "#Use this method on orer to calculate age of person if date of birth is 1944\n",
        "# if age is the name of function, print(age(1944))\n",
        "\n",
        "def age(birthyear):\n",
        "  birthyear = int(birthyear)\n",
        "  return 2022 - birthyear\n",
        "print(age(1944))\n",
        "\n"
      ],
      "metadata": {
        "id": "geUjb-vuyYbF",
        "outputId": "b23093ab-d057-457d-f81c-44c9d22b427f",
        "colab": {
          "base_uri": "https://localhost:8080/"
        }
      },
      "execution_count": 25,
      "outputs": [
        {
          "output_type": "stream",
          "name": "stdout",
          "text": [
            "78\n"
          ]
        }
      ]
    },
    {
      "cell_type": "code",
      "source": [
        "#Q8-Write a class named arithmetic with method for calculating addition, substraction, multiplication and division of two numbers.\n",
        "class arithmetic:\n",
        "  def addition(x,y):\n",
        "    return x+y\n",
        "  def substraction(x, y):\n",
        "    return x - y\n",
        "  def multiplication(x, y):\n",
        "    return x * y\n",
        "  def division (x, y):\n",
        "    return x / y\n",
        "  \n",
        "print(arithmetic.addition(3,4))\n",
        "print(arithmetic.substraction(3,4))\n",
        "print(arithmetic.multiplication(3,4))\n",
        "print(arithmetic.division(3,4))"
      ],
      "metadata": {
        "id": "YcyFzE3fzC7_",
        "outputId": "86dab5aa-5905-4d02-904f-36179188dab9",
        "colab": {
          "base_uri": "https://localhost:8080/"
        }
      },
      "execution_count": 28,
      "outputs": [
        {
          "output_type": "stream",
          "name": "stdout",
          "text": [
            "7\n",
            "-1\n",
            "12\n",
            "0.75\n"
          ]
        }
      ]
    },
    {
      "cell_type": "code",
      "source": [
        "#Q9- write a for loop or method  to calculate summation of first n numbers\n",
        "#i.e if n=3, it will print or return 6 (1+2+3)\n",
        "\n",
        "def sum_number(n):\n",
        "  n = int(n)\n",
        "  sum_ = 0\n",
        "  for i in range(n+1):\n",
        "    sum_ += i\n",
        "  return sum_\n",
        "\n",
        "sum_number(3)"
      ],
      "metadata": {
        "id": "AUJWr5YqzadI",
        "outputId": "7eb5b467-a4c7-484d-df18-025f21027511",
        "colab": {
          "base_uri": "https://localhost:8080/"
        }
      },
      "execution_count": 29,
      "outputs": [
        {
          "output_type": "execute_result",
          "data": {
            "text/plain": [
              "6"
            ]
          },
          "metadata": {},
          "execution_count": 29
        }
      ]
    },
    {
      "cell_type": "code",
      "source": [
        "#Q10-Generate 10 numbers between 0 and 1 and add into list. Print first three elements of that list. \n",
        "\n",
        "import random \n",
        "\n",
        "list_ = []\n",
        "for i in range(10):\n",
        "  list_.append(random.random())\n",
        "\n",
        "print(list_[:3])"
      ],
      "metadata": {
        "id": "hmtvJdCL02qx",
        "outputId": "b570ed64-cf44-4350-b2f8-acd9e69c3594",
        "colab": {
          "base_uri": "https://localhost:8080/"
        }
      },
      "execution_count": 30,
      "outputs": [
        {
          "output_type": "stream",
          "name": "stdout",
          "text": [
            "[0.7024007072156302, 0.31232373818809034, 0.049559397270069416]\n"
          ]
        }
      ]
    },
    {
      "cell_type": "code",
      "source": [
        "#Q11-For a given number n, print numbers divisible by 3 up to that number(n included)\n",
        "#Example: if n=15, print 3,6,9,12,15\n",
        "#Hint you can use modulus statement (if (i%3==0))\n",
        "n=15\n",
        "\n",
        "for i in range(1, n+1):\n",
        "  if i % 3 == 0:\n",
        "    print(i)\n"
      ],
      "metadata": {
        "id": "5O6Y2CujcAAs",
        "outputId": "e447f482-bed6-4410-a28d-9368abf19827",
        "colab": {
          "base_uri": "https://localhost:8080/"
        }
      },
      "execution_count": 32,
      "outputs": [
        {
          "output_type": "stream",
          "name": "stdout",
          "text": [
            "3\n",
            "6\n",
            "9\n",
            "12\n",
            "15\n"
          ]
        }
      ]
    },
    {
      "cell_type": "code",
      "source": [
        ""
      ],
      "metadata": {
        "id": "25DEOb3nPiAd"
      },
      "execution_count": null,
      "outputs": []
    }
  ]
}